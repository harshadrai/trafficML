{
 "cells": [
  {
   "cell_type": "code",
   "execution_count": 1,
   "metadata": {
    "collapsed": true
   },
   "outputs": [],
   "source": [
    "#Import packages\n",
    "import pandas as pd\n",
    "import numpy as np #numpy not needed\n",
    "import datetime\n",
    "import calendar"
   ]
  },
  {
   "cell_type": "code",
   "execution_count": 2,
   "metadata": {
    "collapsed": true
   },
   "outputs": [],
   "source": [
    "#Loading the data\n",
    "df=pd.read_csv('SUPER_CLEANED_NYPD_TRAFFIC_COLLISION.csv')"
   ]
  },
  {
   "cell_type": "markdown",
   "metadata": {},
   "source": [
    "<p>We save the indices of the dataframe df into a variable called index </p>\n",
    "<p>We create a list called columns to have the column names for the data cube that we are going to create</p>\n",
    "<p>And then we create a dataframe called df1 with column names as column and indices as index"
   ]
  },
  {
   "cell_type": "code",
   "execution_count": 3,
   "metadata": {
    "collapsed": false
   },
   "outputs": [],
   "source": [
    "index=df.index\n",
    "columns=['fatality','time_of_day', 'day_of_week', 'month', 'number_of_colliding_vehicles', 'heavy_vehicle_involved', 'accident_at_intersection', 'inappropriate_turning']\n",
    "df1 = pd.DataFrame(index=index,columns=columns)"
   ]
  },
  {
   "cell_type": "markdown",
   "metadata": {},
   "source": [
    "## We now loop over each row of the original dataframe df and update the rows of our new dataframe df1"
   ]
  },
  {
   "cell_type": "code",
   "execution_count": null,
   "metadata": {
    "collapsed": false
   },
   "outputs": [],
   "source": [
    "for index, rows in df.iterrows():\n",
    "    temp=[]\n",
    "    if rows['NUMBER OF PERSONS KILLED']>0:\n",
    "        temp.append(1)\n",
    "    else:\n",
    "        temp.append(0)\n",
    "    temp.append(pd.to_datetime(rows['TIME']).hour)\n",
    "    #my_date = pd.to_datetime(rows['DATE']).date()\n",
    "    #temp.append(calendar.day_name[my_date.weekday()])     ....These two lines if you want the name of the day\n",
    "    temp.append((pd.to_datetime(rows['DATE'])).weekday())\n",
    "    temp.append(pd.to_datetime(rows['DATE']).month)\n",
    "    if str(rows['VEHICLE TYPE CODE 1'])=='nan':\n",
    "        temp.append(0)\n",
    "    elif str(rows['VEHICLE TYPE CODE 2'])=='nan':\n",
    "        temp.append(1)\n",
    "    elif str(rows['VEHICLE TYPE CODE 3'])=='nan':\n",
    "        temp.append(2)\n",
    "    elif str(rows['VEHICLE TYPE CODE 4'])=='nan':\n",
    "        temp.append(3)\n",
    "    elif str(rows['VEHICLE TYPE CODE 5'])=='nan':\n",
    "        temp.append(4)\n",
    "    else:\n",
    "        temp.append(5)\n",
    "    if rows['VEHICLE TYPE CODE 1'] in ['BUS', 'FIRE TRUCK', 'LARGE COM VEH(6 OR MORE TIRES)'] or rows['VEHICLE TYPE CODE 2'] in ['BUS', 'FIRE TRUCK', 'LARGE COM VEH(6 OR MORE TIRES)'] or rows['VEHICLE TYPE CODE 3'] in ['BUS', 'FIRE TRUCK', 'LARGE COM VEH(6 OR MORE TIRES)'] or rows['VEHICLE TYPE CODE 4'] in ['BUS', 'FIRE TRUCK', 'LARGE COM VEH(6 OR MORE TIRES)'] or rows['VEHICLE TYPE CODE 5'] in ['BUS', 'FIRE TRUCK', 'LARGE COM VEH(6 OR MORE TIRES)']:\n",
    "        temp.append(1)\n",
    "    else:\n",
    "        temp.append(0)\n",
    "    if str(rows['CROSS STREET NAME'])=='nan':\n",
    "        temp.append(0)\n",
    "    else:\n",
    "        temp.append(1)\n",
    "    if rows['CONTRIBUTING FACTOR VEHICLE 1']=='Turning Improperly' or rows['CONTRIBUTING FACTOR VEHICLE 2']=='Turning Improperly' or rows['CONTRIBUTING FACTOR VEHICLE 3']=='Turning Improperly' or rows['CONTRIBUTING FACTOR VEHICLE 4']=='Turning Improperly' or rows['CONTRIBUTING FACTOR VEHICLE 5']=='Turning Improperly':\n",
    "        temp.append(1)\n",
    "    else:\n",
    "        temp.append(0)\n",
    "    df1.ix[index]=temp"
   ]
  },
  {
   "cell_type": "markdown",
   "metadata": {},
   "source": [
    "## Saving the dataframe as a .csv file"
   ]
  },
  {
   "cell_type": "code",
   "execution_count": 46,
   "metadata": {
    "collapsed": false
   },
   "outputs": [],
   "source": [
    "df1.to_csv('Data_Cube.csv')"
   ]
  }
 ],
 "metadata": {
  "anaconda-cloud": {},
  "kernelspec": {
   "display_name": "Python [default]",
   "language": "python",
   "name": "python3"
  },
  "language_info": {
   "codemirror_mode": {
    "name": "ipython",
    "version": 3
   },
   "file_extension": ".py",
   "mimetype": "text/x-python",
   "name": "python",
   "nbconvert_exporter": "python",
   "pygments_lexer": "ipython3",
   "version": "3.5.2"
  }
 },
 "nbformat": 4,
 "nbformat_minor": 1
}
