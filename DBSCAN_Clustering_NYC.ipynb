{
 "cells": [
  {
   "cell_type": "markdown",
   "metadata": {},
   "source": [
    "# This code clusters and visualizes traffic fatalities in New York City from 2012 to 2016"
   ]
  },
  {
   "cell_type": "markdown",
   "metadata": {},
   "source": [
    "Import packages and the file as dataframe"
   ]
  },
  {
   "cell_type": "code",
   "execution_count": null,
   "metadata": {
    "collapsed": true
   },
   "outputs": [],
   "source": [
    "import matplotlib.pyplot as plt\n",
    "import pandas as pd\n",
    "import numpy as np\n",
    "import datetime\n",
    "\n",
    "df = pd.read_csv('SUPER_CLEANED_NYPD_TRAFFIC_COLLISION.csv')"
   ]
  },
  {
   "cell_type": "markdown",
   "metadata": {},
   "source": [
    "In the next cell we create a dictionary corresponding to the fatalities. The dictionary contains the different years from 2012 to 2016 as keys and the corresponding values are nested lists with the latitude and longitude values"
   ]
  },
  {
   "cell_type": "code",
   "execution_count": null,
   "metadata": {
    "collapsed": true
   },
   "outputs": [],
   "source": [
    "#The list on 0 index in each year is the Latitude\n",
    "#The list on 1 index in each year is the Longitude\n",
    "FatalityYear={2012:[[],[]], 2013:[[],[]],2014:[[],[]], 2015:[[],[]], 2016:[[],[]], 2017:[[],[]]}\n",
    "for index, row in df.iterrows():\n",
    "    b=int(row['NUMBER OF PERSONS KILLED'])\n",
    "    if (b>0) and not(np.isnan(row['LATITUDE']) and np.isnan(row['LONGITUDE'])):\n",
    "        if int(pd.to_datetime(row['DATE']).year)==2016:\n",
    "            FatalityYear[2016][0].append(float(row['LATITUDE']))\n",
    "            FatalityYear[2016][1].append(float(row['LONGITUDE']))\n",
    "        elif int(pd.to_datetime(row['DATE']).year)==2015:\n",
    "            FatalityYear[2015][0].append(float(row['LATITUDE']))\n",
    "            FatalityYear[2015][1].append(float(row['LONGITUDE']))\n",
    "        elif int(pd.to_datetime(row['DATE']).year)==2014:\n",
    "            FatalityYear[2014][0].append(float(row['LATITUDE']))\n",
    "            FatalityYear[2014][1].append(float(row['LONGITUDE']))\n",
    "        elif int(pd.to_datetime(row['DATE']).year)==2013:\n",
    "            FatalityYear[2013][0].append(float(row['LATITUDE']))\n",
    "            FatalityYear[2013][1].append(float(row['LONGITUDE']))\n",
    "        elif int(pd.to_datetime(row['DATE']).year)==2012:\n",
    "            FatalityYear[2012][0].append(float(row['LATITUDE']))\n",
    "            FatalityYear[2012][1].append(float(row['LONGITUDE']))"
   ]
  },
  {
   "cell_type": "markdown",
   "metadata": {},
   "source": [
    "We cluster the fatalities for different years and visualize them in the next cell using the DBSCAN algorithm\n",
    "The DBSCAN library is imported from the sklearn.cluster package"
   ]
  },
  {
   "cell_type": "code",
   "execution_count": null,
   "metadata": {
    "collapsed": true
   },
   "outputs": [],
   "source": [
    "def dbscan_clustering():\n",
    "\n",
    "    import pandas as pd, numpy as np, matplotlib.pyplot as plt, time\n",
    "    from sklearn.cluster import DBSCAN\n",
    "    from sklearn import metrics\n",
    "    from geopy.distance import great_circle\n",
    "    import datetime\n",
    "\n",
    "    year = input(\"What year do you want to cluster? (2012, 2013, 2014, 2015, 2016): \")\n",
    "    year = int(year)\n",
    "\n",
    "    final_list=[]\n",
    "    for j in range(len(FatalityYear[year][0])):\n",
    "        my_list=[]\n",
    "        for i in range(len(FatalityYear[year])):\n",
    "            my_list.append(FatalityYear[year][i][j])\n",
    "        final_list.append(my_list)\n",
    "\n",
    "\n",
    "    coords = np.array(np.radians(np.array(final_list)))\n",
    "\n",
    "    #The DBSCAN clustering part starts from here\n",
    "    #I will be taking a radius of 2kms and a minimum of 3 fatalities\n",
    "\n",
    "\n",
    "\n",
    "\n",
    "\n",
    "    kms_per_radian = 6371.0088\n",
    "    epsilon = 2 / kms_per_radian\n",
    "    db = DBSCAN(eps=epsilon, min_samples=3, algorithm='ball_tree', metric='haversine').fit(coords)\n",
    "    core_samples_mask = np.zeros_like(db.labels_, dtype=bool)\n",
    "    #db.labels_ is a list containing the labels for all the points (118 in this case) as to which cluster they belong to\n",
    "    #The labels are from 0 to the total number of clusters. The outliers are given a label of -1\n",
    "    #np.zeros_like() gives a list of zeros with the same shape of the list mentioned (db.labels_ in this case)\n",
    "    #The additional parameter dtype=bool converts each value to False since all of them are zeros\n",
    "    core_samples_mask[db.core_sample_indices_] = True\n",
    "    #db.core_sample_indices_ gives all the indices of db at which the values are not -1\n",
    "    #core_samples_mask[db.core_sample_indices_] = True converts all values that were False at these indices to True\n",
    "    #We now have core_samples_mask which is a list containing boolean values with True at points belonging to a cluster\n",
    "    #and False at points that are outliers\n",
    "    labels = db.labels_\n",
    "    #We then save all the labels in a variable called labels\n",
    "    # Number of clusters in labels, ignoring noise if present.\n",
    "    n_clusters_ = len(set(labels)) - (1 if -1 in labels else 0)\n",
    "    #The number of clusters is stored in n_clusters_ \n",
    "    #Note that the -1 is not a cluster and hence is not counted in this\n",
    "\n",
    "    print('Estimated number of clusters: %d' % n_clusters_)\n",
    "\n",
    "    #forming a temporary list to store all labels and label -1 as well for outliers if present to plot outliers as well\n",
    "    temp_labels=[]\n",
    "    for i in range(n_clusters_):\n",
    "        temp_labels.append(i)\n",
    "    if -1 in labels:\n",
    "        temp_labels.append(-1)\n",
    "\n",
    "    clusters = pd.Series([coords[labels == n] for n in temp_labels])#range(n_clusters_)])\n",
    "\n",
    "\n",
    "    main_list=[]\n",
    "    for i in range(n_clusters_+1):\n",
    "        Lat_list=[]\n",
    "        Long_list=[]\n",
    "        for j in range(len(clusters[i])):\n",
    "            Lat_list.append(FatalityYear[year][0][np.where(coords==[clusters[i][j]])[0][0]])\n",
    "            Long_list.append(FatalityYear[year][1][np.where(coords==[clusters[i][j]])[0][0]])\n",
    "            #np.where(coords==[clusters[i][j]]) provides us with a tuple containing two arrays like this\n",
    "            #(array([65, 65], dtype=int64), array([0, 1], dtype=int64))\n",
    "            #The first array contains the index of the list coords at which the jth radian coordinates of the ith cluster is.\n",
    "            #The next two [0][0] let us reach that index in FatalityYear[year][lat/long]\n",
    "        main_list.append([Long_list,Lat_list])\n",
    "        #Add these lists of lat and long in a list for each cluster and finally add them to a main_list\n",
    "\n",
    "\n",
    "    from mpl_toolkits.basemap import Basemap\n",
    "\n",
    "    m= Basemap(projection='mill', llcrnrlat = 40.471920, llcrnrlon = -74.297241,\n",
    "                          urcrnrlat=40.938311,\n",
    "                          urcrnrlon = -73.635315, epsg=2263, resolution = 'h')\n",
    "    unique_labels = list(set(labels))\n",
    "    colors = plt.cm.Spectral(np.linspace(0, 1, len(unique_labels)))\n",
    "    m.arcgisimage(service='ESRI_StreetMap_World_2D', xpixels = 12000, verbose= True)\n",
    "    m.drawcoastlines()\n",
    "    m.drawcountries(linewidth=2)\n",
    "    #m.drawstates(linewidth=2)\n",
    "    m.drawcounties()\n",
    "    m.drawrivers()\n",
    "\n",
    "    for i,col in zip(range(len(main_list)), colors):\n",
    "        if unique_labels[i] == -1:\n",
    "            # Black used for noise.\n",
    "            col = 'k'\n",
    "        xpt, ypt = m(main_list[i][0],main_list[i][1])\n",
    "        m.plot(xpt, ypt, 'co', markersize =9,markerfacecolor=col)\n",
    "    title = (\"Cluster Visualization for \" + str(year))\n",
    "    plt.title(title)\n",
    "    plt.savefig((\"Fatality Cluster Visualization for year \" + str(year) +'.png'), dpi=1200)\n",
    "    plt.show()\n",
    "    answer=input(\"Do you want to cluster more? (Y/N): \")\n",
    "    if answer=='Y':\n",
    "        dbscan_clustering()\n",
    "\n",
    "\n",
    "dbscan_clustering()"
   ]
  }
 ],
 "metadata": {
  "kernelspec": {
   "display_name": "Python [default]",
   "language": "python",
   "name": "python3"
  },
  "language_info": {
   "codemirror_mode": {
    "name": "ipython",
    "version": 3
   },
   "file_extension": ".py",
   "mimetype": "text/x-python",
   "name": "python",
   "nbconvert_exporter": "python",
   "pygments_lexer": "ipython3",
   "version": "3.5.2"
  }
 },
 "nbformat": 4,
 "nbformat_minor": 1
}
