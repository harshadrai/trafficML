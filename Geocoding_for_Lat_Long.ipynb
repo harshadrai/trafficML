{
 "cells": [
  {
   "cell_type": "markdown",
   "metadata": {},
   "source": [
    "# This code geocodes the intersections(i.e. gets the latitude and longitude corresponding to the street address) based on the On-Street Name and Cross-Street Name available to us and then Reverse Geocodes(i.e. gets address corresponding to latitude and longitude values) based on the goecoded lat-long to get the Borough names.\n",
    "## As there is a limit on the number of locations one can geocode and reverse geocode in a day using the pygeocoder package which is a Python interface for the Google Geocoding API V3, we only geocode the locations corresponding to fatalities"
   ]
  },
  {
   "cell_type": "code",
   "execution_count": null,
   "metadata": {
    "collapsed": true
   },
   "outputs": [],
   "source": [
    "# Load packages\n",
    "from pygeocoder import Geocoder\n",
    "import pandas as pd\n",
    "import numpy as np"
   ]
  },
  {
   "cell_type": "markdown",
   "metadata": {},
   "source": [
    "Read the file which contains only the missing lat-long values for the intersections as a dataframe"
   ]
  },
  {
   "cell_type": "code",
   "execution_count": null,
   "metadata": {
    "collapsed": true
   },
   "outputs": [],
   "source": [
    "df = pd.read_csv('BOOK1.csv')"
   ]
  },
  {
   "cell_type": "markdown",
   "metadata": {},
   "source": [
    "This next cell Geocodes the data for us.\n",
    "    We use the time package to have a pause in between each iteration of the geocoding process as without this we \n",
    "    get and \"OVER_QUERY_LIMIT\" which possibly means that we tried to geocode too many locations one after the other"
   ]
  },
  {
   "cell_type": "code",
   "execution_count": null,
   "metadata": {
    "collapsed": false
   },
   "outputs": [],
   "source": [
    "import time\n",
    "def geocoding():\n",
    "    for index, row in df.iterrows():\n",
    "        result=Geocoder.geocode(str(row['ON STREET NAME']).strip() + ' AND ' + str(row['CROSS STREET NAME']).strip() + ', NY')\n",
    "        #The previous line joins the street names together inorder to geocode it as an address\n",
    "        df.set_value(index, 'LATITUDE', float(result.coordinates[0]))\n",
    "        df.set_value(index, 'LONGITUDE', float(result.coordinates[1]))\n",
    "        time.sleep( 1 )\n"
   ]
  },
  {
   "cell_type": "markdown",
   "metadata": {},
   "source": [
    "We call the function geocoding() in the next cell"
   ]
  },
  {
   "cell_type": "code",
   "execution_count": null,
   "metadata": {
    "collapsed": false
   },
   "outputs": [],
   "source": [
    "geocoding()"
   ]
  },
  {
   "cell_type": "markdown",
   "metadata": {},
   "source": [
    "The next cell joins the latitude and longitudes obtained via goecoding and adds them in the 'LOCATION' column of the dataframe as a pd.core.series.Series type"
   ]
  },
  {
   "cell_type": "code",
   "execution_count": null,
   "metadata": {
    "collapsed": false
   },
   "outputs": [],
   "source": [
    "for index, row in df.iterrows():\n",
    "    df.set_value(index, 'LOCATION', ('(' + str(row['LATITUDE']) + ', ' + str(row['LONGITUDE']) + ')'))\n",
    "df['LOCATION']=df['LOCATION'].astype(pd.core.series.Series)"
   ]
  },
  {
   "cell_type": "markdown",
   "metadata": {},
   "source": [
    "The next cell reverse geocodes based on the latitude and longitude values obtained by geocoding the intersections and gets the corresponding Borough names using the sublocality parameter"
   ]
  },
  {
   "cell_type": "code",
   "execution_count": null,
   "metadata": {
    "collapsed": false
   },
   "outputs": [],
   "source": [
    "df['BOROUGH']=df['BOROUGH'].astype(str)\n",
    "import time\n",
    "def reverse_geocoding():\n",
    "    for index, row in df.iterrows():\n",
    "        df.set_value(index, 'BOROUGH', str(Geocoder.reverse_geocode(row['LATITUDE'], row['LONGITUDE']).sublocality.upper()))\n",
    "        time.sleep( 1 )"
   ]
  },
  {
   "cell_type": "markdown",
   "metadata": {},
   "source": [
    "We call the function reverse_geocoding() in the next cell"
   ]
  },
  {
   "cell_type": "code",
   "execution_count": null,
   "metadata": {
    "collapsed": false
   },
   "outputs": [],
   "source": [
    "reverse_geocoding()"
   ]
  },
  {
   "cell_type": "markdown",
   "metadata": {},
   "source": [
    "This may throw an error at some lat-long values stating that the lat-long value could not be reverse geocoded. In such a case we may need to manually check the Borough corresponding to that lat-long value using Google Maps or some other similar software and set it accordingly as shown in next cell"
   ]
  },
  {
   "cell_type": "code",
   "execution_count": null,
   "metadata": {
    "collapsed": false
   },
   "outputs": [],
   "source": [
    "df.set_value(88, 'BOROUGH', 'BROOKLYN')"
   ]
  },
  {
   "cell_type": "markdown",
   "metadata": {},
   "source": [
    "Read the file containing all but the missing lat-long values as another dataframe"
   ]
  },
  {
   "cell_type": "code",
   "execution_count": null,
   "metadata": {
    "collapsed": false
   },
   "outputs": [],
   "source": [
    "df2 = pd.read_csv('BOOK2.csv')"
   ]
  },
  {
   "cell_type": "markdown",
   "metadata": {},
   "source": [
    "Join the two dataframes together"
   ]
  },
  {
   "cell_type": "code",
   "execution_count": null,
   "metadata": {
    "collapsed": false
   },
   "outputs": [],
   "source": [
    "join = [df2, df]\n",
    "\n",
    "final_df = pd.concat(join)"
   ]
  },
  {
   "cell_type": "markdown",
   "metadata": {},
   "source": [
    "Save the final dataframe as a .csv file"
   ]
  },
  {
   "cell_type": "code",
   "execution_count": null,
   "metadata": {
    "collapsed": false
   },
   "outputs": [],
   "source": [
    "final_df.to_csv('SUPER_CLEANED_NYPD_TRAFFIC_COLLISION.csv')"
   ]
  }
 ],
 "metadata": {
  "anaconda-cloud": {},
  "kernelspec": {
   "display_name": "Python [default]",
   "language": "python",
   "name": "python3"
  },
  "language_info": {
   "codemirror_mode": {
    "name": "ipython",
    "version": 3
   },
   "file_extension": ".py",
   "mimetype": "text/x-python",
   "name": "python",
   "nbconvert_exporter": "python",
   "pygments_lexer": "ipython3",
   "version": "3.5.2"
  }
 },
 "nbformat": 4,
 "nbformat_minor": 1
}
