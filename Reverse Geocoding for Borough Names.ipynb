{
 "cells": [
  {
   "cell_type": "markdown",
   "metadata": {},
   "source": [
    "# This code Reverse Geocodes (i.e. gets address corresponding to the Latitude and Longitude) to obtain the Borough names"
   ]
  },
  {
   "cell_type": "code",
   "execution_count": null,
   "metadata": {
    "collapsed": true
   },
   "outputs": [],
   "source": [
    "# Load packages\n",
    "from pygeocoder import Geocoder\n",
    "import pandas as pd\n",
    "import numpy as np"
   ]
  },
  {
   "cell_type": "code",
   "execution_count": null,
   "metadata": {
    "collapsed": false
   },
   "outputs": [],
   "source": [
    "# Loading Data\n",
    "df = pd.read_csv('C:/Users/karan/Desktop/New folder/NYPD_REVERSE_GEOCODING_new.csv')\n",
    "#This csv file has the data of only the ones that have atleast one fatality and have latitude and longitude information\n",
    "#present and have boroughs empty"
   ]
  },
  {
   "cell_type": "code",
   "execution_count": null,
   "metadata": {
    "collapsed": false
   },
   "outputs": [],
   "source": [
    "df['BOROUGH']=df['BOROUGH'].astype(str)\n",
    "#This is to convert the BOROUGH column to a string type as it is right now float and gives an error while updating the\n",
    "#values with the borough names which are strings"
   ]
  },
  {
   "cell_type": "code",
   "execution_count": null,
   "metadata": {
    "collapsed": false
   },
   "outputs": [],
   "source": [
    "import time\n",
    "def reverse_geocoding():\n",
    "    for index, row in df.iterrows():\n",
    "        df.set_value(index, 'BOROUGH', str(Geocoder.reverse_geocode(row['LATITUDE'], row['LONGITUDE']).sublocality.upper()))\n",
    "        time.sleep( 1 )\n",
    "        \n",
    "#This is the main function that fetches the borough name corresponding to the lat-long coordinates\n",
    "#We use the pygeocoder package to do this and rename it to Geocoder\n",
    "#The reverse_geocode function of this package is then used to get the address corresponding to the lat-long coordinates\n",
    "#.sublocality is used to fetch the Borough name from the address which is then converted to upper case to conform with \n",
    "#the current naming scheme\n",
    "#We use a pause between each reverse geocode procedure. If this is not done we get an error \"OVER_QUERY_LIMIT\"\n",
    "#For this we use the sleep function of the time package to have a pause of 1 second"
   ]
  },
  {
   "cell_type": "code",
   "execution_count": null,
   "metadata": {
    "collapsed": false
   },
   "outputs": [],
   "source": [
    "reverse_geocoding()\n",
    "#This is to call the function that we just defined above"
   ]
  },
  {
   "cell_type": "code",
   "execution_count": null,
   "metadata": {
    "collapsed": false
   },
   "outputs": [],
   "source": [
    "dfold = pd.read_csv('C:/Users/karan/Desktop/New folder/NYPD_REVERSE_GEOCODING.csv')\n",
    "#We then upload the entire data into the dfold variable which is a dataframe\n",
    "#This dataframe has all the data EXCEPT the ones that do not have borough names corresponding to atleast one fatality\n",
    "#and lat-long coordinates present\n",
    "#This is done so that the new data with the reverse geocoded Borough names can be added to the original data"
   ]
  },
  {
   "cell_type": "code",
   "execution_count": null,
   "metadata": {
    "collapsed": false
   },
   "outputs": [],
   "source": [
    "join = [dfold, df]\n",
    "\n",
    "final_df = pd.concat(join)\n",
    "\n",
    "#This joins the two dataframes together and thus we have Borough names where we need"
   ]
  },
  {
   "cell_type": "code",
   "execution_count": null,
   "metadata": {
    "collapsed": false
   },
   "outputs": [],
   "source": [
    "final_df.to_csv('Final_NYPD_collision_data_for_Boroughs.csv')\n",
    "#We finally save the new data as a csv file named \"Final_NYPD_collision_data_for_Boroughs\""
   ]
  }
 ],
 "metadata": {
  "anaconda-cloud": {},
  "kernelspec": {
   "display_name": "Python [default]",
   "language": "python",
   "name": "python3"
  },
  "language_info": {
   "codemirror_mode": {
    "name": "ipython",
    "version": 3
   },
   "file_extension": ".py",
   "mimetype": "text/x-python",
   "name": "python",
   "nbconvert_exporter": "python",
   "pygments_lexer": "ipython3",
   "version": "3.5.2"
  }
 },
 "nbformat": 4,
 "nbformat_minor": 1
}
